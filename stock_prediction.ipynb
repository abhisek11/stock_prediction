{
  "nbformat": 4,
  "nbformat_minor": 0,
  "metadata": {
    "colab": {
      "name": "stock_prediction.ipynb",
      "provenance": []
    },
    "kernelspec": {
      "name": "python3",
      "display_name": "Python 3"
    }
  },
  "cells": [
    {
      "cell_type": "code",
      "metadata": {
        "id": "jy3aamgDknnM",
        "colab_type": "code",
        "colab": {
          "base_uri": "https://localhost:8080/",
          "height": 34
        },
        "outputId": "5f5afe29-608d-48fe-dddf-b01c9ca5823d"
      },
      "source": [
        "\n",
        "import math\n",
        "import pandas as pd\n",
        "import numpy as np\n",
        "import datetime\n",
        "\n",
        "from sklearn import preprocessing\n",
        "from sklearn.linear_model import LinearRegression\n",
        "from sklearn.neighbors import KNeighborsRegressor\n",
        "from sklearn.linear_model import Ridge\n",
        "from sklearn.preprocessing import PolynomialFeatures\n",
        "from sklearn.pipeline import make_pipeline\n",
        "\n",
        "from pandas_datareader import data as pdr\n",
        "import fix_yahoo_finance as yf\n",
        "\n",
        "import matplotlib.pyplot as plt\n",
        "from matplotlib import style\n",
        "import matplotlib as mpl\n",
        "\n",
        "mpl.rc('figure', figsize=(8, 7))\n",
        "style.use('ggplot')\n",
        "\n",
        "print(\"Good to go.\")"
      ],
      "execution_count": 1,
      "outputs": [
        {
          "output_type": "stream",
          "text": [
            "Good to go.\n"
          ],
          "name": "stdout"
        }
      ]
    },
    {
      "cell_type": "code",
      "metadata": {
        "id": "s0pohMbhk44J",
        "colab_type": "code",
        "colab": {
          "base_uri": "https://localhost:8080/",
          "height": 51
        },
        "outputId": "2a2b6b6c-18eb-4439-dd02-6e68d4726c85"
      },
      "source": [
        "# Now, lets get some data.\n",
        "\n",
        "def get_historical_data(symbol, start_date=\"2019-01-01\"):\n",
        "  yf.pdr_override()\n",
        "  df = pdr.get_data_yahoo(symbol, start=start_date).reset_index()\n",
        "  df.to_csv(symbol + '.csv', index=False)\n",
        "  \n",
        "get_historical_data('JPM')\n",
        "\n",
        "print(\"Data acquired!\")"
      ],
      "execution_count": 4,
      "outputs": [
        {
          "output_type": "stream",
          "text": [
            "[*********************100%***********************]  1 of 1 downloaded\n",
            "Data acquired!\n"
          ],
          "name": "stdout"
        }
      ]
    },
    {
      "cell_type": "code",
      "metadata": {
        "id": "QosnbcIZlABF",
        "colab_type": "code",
        "outputId": "86cd3fe7-f96a-4d9d-82bb-f1bc60e54084",
        "colab": {
          "base_uri": "https://localhost:8080/",
          "height": 235
        }
      },
      "source": [
        "\n",
        "\n",
        "df = pd.read_csv('JPM.csv');\n",
        "df = df.loc[:, ['Date', 'Volume', 'Open', 'High', 'Low', 'Close', 'Adj Close']]\n",
        "\n",
        "df['Date'] = pd.to_datetime(df['Date'], format='%Y-%m-%d')\n",
        "df = df.sort_values(by=['Date'], ascending=[True])\n",
        "df.set_index('Date', inplace=True)\n",
        "df = df.resample('D').fillna(method=None).interpolate()\n",
        "\n",
        "df.head()"
      ],
      "execution_count": 5,
      "outputs": [
        {
          "output_type": "execute_result",
          "data": {
            "text/html": [
              "<div>\n",
              "<style scoped>\n",
              "    .dataframe tbody tr th:only-of-type {\n",
              "        vertical-align: middle;\n",
              "    }\n",
              "\n",
              "    .dataframe tbody tr th {\n",
              "        vertical-align: top;\n",
              "    }\n",
              "\n",
              "    .dataframe thead th {\n",
              "        text-align: right;\n",
              "    }\n",
              "</style>\n",
              "<table border=\"1\" class=\"dataframe\">\n",
              "  <thead>\n",
              "    <tr style=\"text-align: right;\">\n",
              "      <th></th>\n",
              "      <th>Volume</th>\n",
              "      <th>Open</th>\n",
              "      <th>High</th>\n",
              "      <th>Low</th>\n",
              "      <th>Close</th>\n",
              "      <th>Adj Close</th>\n",
              "    </tr>\n",
              "    <tr>\n",
              "      <th>Date</th>\n",
              "      <th></th>\n",
              "      <th></th>\n",
              "      <th></th>\n",
              "      <th></th>\n",
              "      <th></th>\n",
              "      <th></th>\n",
              "    </tr>\n",
              "  </thead>\n",
              "  <tbody>\n",
              "    <tr>\n",
              "      <th>2019-01-02</th>\n",
              "      <td>15670900.0</td>\n",
              "      <td>95.949997</td>\n",
              "      <td>99.779999</td>\n",
              "      <td>95.940002</td>\n",
              "      <td>99.309998</td>\n",
              "      <td>96.303230</td>\n",
              "    </tr>\n",
              "    <tr>\n",
              "      <th>2019-01-03</th>\n",
              "      <td>16286400.0</td>\n",
              "      <td>98.639999</td>\n",
              "      <td>98.889999</td>\n",
              "      <td>96.690002</td>\n",
              "      <td>97.110001</td>\n",
              "      <td>94.934593</td>\n",
              "    </tr>\n",
              "    <tr>\n",
              "      <th>2019-01-04</th>\n",
              "      <td>16935200.0</td>\n",
              "      <td>99.110001</td>\n",
              "      <td>100.930000</td>\n",
              "      <td>98.279999</td>\n",
              "      <td>100.690002</td>\n",
              "      <td>98.434395</td>\n",
              "    </tr>\n",
              "    <tr>\n",
              "      <th>2019-01-05</th>\n",
              "      <td>16433700.0</td>\n",
              "      <td>99.550001</td>\n",
              "      <td>101.110000</td>\n",
              "      <td>98.756666</td>\n",
              "      <td>100.713335</td>\n",
              "      <td>98.457207</td>\n",
              "    </tr>\n",
              "    <tr>\n",
              "      <th>2019-01-06</th>\n",
              "      <td>15932200.0</td>\n",
              "      <td>99.990000</td>\n",
              "      <td>101.290001</td>\n",
              "      <td>99.233332</td>\n",
              "      <td>100.736669</td>\n",
              "      <td>98.480019</td>\n",
              "    </tr>\n",
              "  </tbody>\n",
              "</table>\n",
              "</div>"
            ],
            "text/plain": [
              "                Volume       Open        High        Low       Close  Adj Close\n",
              "Date                                                                           \n",
              "2019-01-02  15670900.0  95.949997   99.779999  95.940002   99.309998  96.303230\n",
              "2019-01-03  16286400.0  98.639999   98.889999  96.690002   97.110001  94.934593\n",
              "2019-01-04  16935200.0  99.110001  100.930000  98.279999  100.690002  98.434395\n",
              "2019-01-05  16433700.0  99.550001  101.110000  98.756666  100.713335  98.457207\n",
              "2019-01-06  15932200.0  99.990000  101.290001  99.233332  100.736669  98.480019"
            ]
          },
          "metadata": {
            "tags": []
          },
          "execution_count": 5
        }
      ]
    },
    {
      "cell_type": "code",
      "metadata": {
        "id": "hR97VpNWlIDv",
        "colab_type": "code",
        "colab": {
          "base_uri": "https://localhost:8080/",
          "height": 495
        },
        "outputId": "dea96cc3-83d9-4206-ea67-bc4b35b9cb4a"
      },
      "source": [
        "print(\"Next, we'll calculate the price changes to engineer extra features.\")\n",
        "\n",
        "# Calculate moving average\n",
        "ma_window = 15\n",
        "df['MA'] = df['Adj Close'].rolling(window=ma_window).mean()\n",
        "df['HL_PCT'] = (df['High'] - df['Low']) / df['Close'] * 100.0\n",
        "df['PCT_change'] = (df['Close'] - df['Open']) / df['Open'] * 100.0\n",
        "\n",
        "df['Adj Close'].plot(label='Price')\n",
        "df['MA'].plot(label='Moving Average')\n",
        "plt.legend()"
      ],
      "execution_count": 6,
      "outputs": [
        {
          "output_type": "stream",
          "text": [
            "Next, we'll calculate the price changes to engineer extra features.\n"
          ],
          "name": "stdout"
        },
        {
          "output_type": "execute_result",
          "data": {
            "text/plain": [
              "<matplotlib.legend.Legend at 0x7f06a0c352e8>"
            ]
          },
          "metadata": {
            "tags": []
          },
          "execution_count": 6
        },
        {
          "output_type": "display_data",
          "data": {
            "image/png": "[encoded data removed]",
            "text/plain": [
              "<Figure size 576x504 with 1 Axes>"
            ]
          },
          "metadata": {
            "tags": []
          }
        }
      ]
    },
    {
      "cell_type": "code",
      "metadata": {
        "id": "zlWyduLal3tS",
        "colab_type": "code",
        "outputId": "02f8014a-e06b-4740-f533-d7d26f215d79",
        "colab": {
          "base_uri": "https://localhost:8080/",
          "height": 337
        }
      },
      "source": [
        "# Now, it's time for preprocessing & cross-validation!\n",
        "\n",
        "# Drop missing value\n",
        "df.fillna(value=-99999, inplace=True)\n",
        "\n",
        "# We want to separate 1 percent of the data to forecast\n",
        "forecast_out = int(math.ceil(0.01 * len(df)))\n",
        "\n",
        "# Separating the label here, we want to predict the Forecast value\n",
        "df['Label'] = df['Adj Close'].shift(-forecast_out)\n",
        "X = np.array(df.drop(['Label'], axis=1))\n",
        "\n",
        "# Scale the X so that everyone can have the same distribution for linear regression\n",
        "X = preprocessing.scale(X)\n",
        "\n",
        "# Finally We want to find Data Series of late X and early X (train) for model generation and evaluation\n",
        "X_lately = X[-forecast_out:]\n",
        "X = X[:-forecast_out]\n",
        "\n",
        "# Separate label and identify it as y\n",
        "y = np.array(df['Label'])\n",
        "y = y[:-forecast_out]\n",
        "\n",
        "df.head()"
      ],
      "execution_count": 7,
      "outputs": [
        {
          "output_type": "execute_result",
          "data": {
            "text/html": [
              "<div>\n",
              "<style scoped>\n",
              "    .dataframe tbody tr th:only-of-type {\n",
              "        vertical-align: middle;\n",
              "    }\n",
              "\n",
              "    .dataframe tbody tr th {\n",
              "        vertical-align: top;\n",
              "    }\n",
              "\n",
              "    .dataframe thead th {\n",
              "        text-align: right;\n",
              "    }\n",
              "</style>\n",
              "<table border=\"1\" class=\"dataframe\">\n",
              "  <thead>\n",
              "    <tr style=\"text-align: right;\">\n",
              "      <th></th>\n",
              "      <th>Volume</th>\n",
              "      <th>Open</th>\n",
              "      <th>High</th>\n",
              "      <th>Low</th>\n",
              "      <th>Close</th>\n",
              "      <th>Adj Close</th>\n",
              "      <th>MA</th>\n",
              "      <th>HL_PCT</th>\n",
              "      <th>PCT_change</th>\n",
              "      <th>Label</th>\n",
              "    </tr>\n",
              "    <tr>\n",
              "      <th>Date</th>\n",
              "      <th></th>\n",
              "      <th></th>\n",
              "      <th></th>\n",
              "      <th></th>\n",
              "      <th></th>\n",
              "      <th></th>\n",
              "      <th></th>\n",
              "      <th></th>\n",
              "      <th></th>\n",
              "      <th></th>\n",
              "    </tr>\n",
              "  </thead>\n",
              "  <tbody>\n",
              "    <tr>\n",
              "      <th>2019-01-02</th>\n",
              "      <td>15670900.0</td>\n",
              "      <td>95.949997</td>\n",
              "      <td>99.779999</td>\n",
              "      <td>95.940002</td>\n",
              "      <td>99.309998</td>\n",
              "      <td>96.303230</td>\n",
              "      <td>-99999.0</td>\n",
              "      <td>3.866677</td>\n",
              "      <td>3.501825</td>\n",
              "      <td>98.457207</td>\n",
              "    </tr>\n",
              "    <tr>\n",
              "      <th>2019-01-03</th>\n",
              "      <td>16286400.0</td>\n",
              "      <td>98.639999</td>\n",
              "      <td>98.889999</td>\n",
              "      <td>96.690002</td>\n",
              "      <td>97.110001</td>\n",
              "      <td>94.934593</td>\n",
              "      <td>-99999.0</td>\n",
              "      <td>2.265469</td>\n",
              "      <td>-1.551093</td>\n",
              "      <td>98.480019</td>\n",
              "    </tr>\n",
              "    <tr>\n",
              "      <th>2019-01-04</th>\n",
              "      <td>16935200.0</td>\n",
              "      <td>99.110001</td>\n",
              "      <td>100.930000</td>\n",
              "      <td>98.279999</td>\n",
              "      <td>100.690002</td>\n",
              "      <td>98.434395</td>\n",
              "      <td>-99999.0</td>\n",
              "      <td>2.631841</td>\n",
              "      <td>1.594189</td>\n",
              "      <td>98.502831</td>\n",
              "    </tr>\n",
              "    <tr>\n",
              "      <th>2019-01-05</th>\n",
              "      <td>16433700.0</td>\n",
              "      <td>99.550001</td>\n",
              "      <td>101.110000</td>\n",
              "      <td>98.756666</td>\n",
              "      <td>100.713335</td>\n",
              "      <td>98.457207</td>\n",
              "      <td>-99999.0</td>\n",
              "      <td>2.336666</td>\n",
              "      <td>1.168593</td>\n",
              "      <td>98.317078</td>\n",
              "    </tr>\n",
              "    <tr>\n",
              "      <th>2019-01-06</th>\n",
              "      <td>15932200.0</td>\n",
              "      <td>99.990000</td>\n",
              "      <td>101.290001</td>\n",
              "      <td>99.233332</td>\n",
              "      <td>100.736669</td>\n",
              "      <td>98.480019</td>\n",
              "      <td>-99999.0</td>\n",
              "      <td>2.041628</td>\n",
              "      <td>0.746743</td>\n",
              "      <td>98.150894</td>\n",
              "    </tr>\n",
              "  </tbody>\n",
              "</table>\n",
              "</div>"
            ],
            "text/plain": [
              "                Volume       Open        High  ...    HL_PCT  PCT_change      Label\n",
              "Date                                           ...                                 \n",
              "2019-01-02  15670900.0  95.949997   99.779999  ...  3.866677    3.501825  98.457207\n",
              "2019-01-03  16286400.0  98.639999   98.889999  ...  2.265469   -1.551093  98.480019\n",
              "2019-01-04  16935200.0  99.110001  100.930000  ...  2.631841    1.594189  98.502831\n",
              "2019-01-05  16433700.0  99.550001  101.110000  ...  2.336666    1.168593  98.317078\n",
              "2019-01-06  15932200.0  99.990000  101.290001  ...  2.041628    0.746743  98.150894\n",
              "\n",
              "[5 rows x 10 columns]"
            ]
          },
          "metadata": {
            "tags": []
          },
          "execution_count": 7
        }
      ]
    },
    {
      "cell_type": "code",
      "metadata": {
        "id": "Vbg65xLbl6l4",
        "colab_type": "code",
        "outputId": "b99e553d-9a72-4d2b-e721-2bf8ea05383d",
        "colab": {
          "base_uri": "https://localhost:8080/",
          "height": 85
        }
      },
      "source": [
        "\n",
        "# So, how'd we do?\n",
        "\n",
        "# Linear regression\n",
        "clfreg = LinearRegression(n_jobs=-1)\n",
        "clfreg.fit(X, y)\n",
        "clfreg_confidence = clfreg.score(X, y) * 100\n",
        "print('Linear regression score: {:.2f}%'.format(clfreg_confidence))\n",
        "\n",
        "# Quadratic Regression 2\n",
        "clfpoly2 = make_pipeline(PolynomialFeatures(2), Ridge())\n",
        "clfpoly2.fit(X, y)\n",
        "clfpoly2_confidence = clfpoly2.score(X, y) * 100\n",
        "print('Quadratic Regression 2 score: {:.2f}%'.format(clfpoly2_confidence))\n",
        "\n",
        "# Quadratic Regression 5\n",
        "clfpoly5 = make_pipeline(PolynomialFeatures(5), Ridge())\n",
        "clfpoly5.fit(X, y)\n",
        "clfpoly5_confidence = clfpoly5.score(X, y) * 100\n",
        "print('Quadratic Regression 5 score: {:.2f}%'.format(clfpoly5_confidence))\n",
        "\n",
        "# KNN Regression\n",
        "clfknn = KNeighborsRegressor(n_neighbors=2)\n",
        "clfknn.fit(X, y)\n",
        "clfknn_confidence = clfknn.score(X, y) * 100\n",
        "print('KNN Regression score: {:.2f}%'.format(clfknn_confidence))"
      ],
      "execution_count": 8,
      "outputs": [
        {
          "output_type": "stream",
          "text": [
            "Linear regression score: 90.59%\n",
            "Quadratic Regression 2 score: 90.98%\n",
            "Quadratic Regression 5 score: 96.18%\n",
            "KNN Regression score: 94.28%\n"
          ],
          "name": "stdout"
        }
      ]
    },
    {
      "cell_type": "code",
      "metadata": {
        "id": "fmYfyMKRmiVW",
        "colab_type": "code",
        "outputId": "493acffa-9787-48f3-d0de-6e77f8125205",
        "colab": {
          "base_uri": "https://localhost:8080/",
          "height": 461
        }
      },
      "source": [
        "\n",
        "clfreg_forecast = clfreg.predict(X_lately)\n",
        "clfpoly2_forecast = clfpoly2.predict(X_lately)\n",
        "clfpoly5_forecast = clfpoly5.predict(X_lately)\n",
        "clfknn_forecast = clfknn.predict(X_lately)\n",
        "forecast_set = (clfreg_forecast + clfpoly2_forecast + clfpoly5_forecast + clfknn_forecast) / 4\n",
        "\n",
        "df['Forecast'] = np.nan\n",
        "last_date = df.iloc[-1].name\n",
        "last_unix = last_date\n",
        "next_unix = last_unix + datetime.timedelta(days=1)\n",
        "\n",
        "for i in forecast_set:\n",
        "    next_date = next_unix\n",
        "    next_unix += datetime.timedelta(days=1)\n",
        "    df.loc[next_date] = [np.nan for _ in\n",
        "                         range(len(df.columns)-1)]+[i]\n",
        "\n",
        "df['Adj Close'].tail(100).plot()\n",
        "df['Forecast'].tail(100).plot()\n",
        "plt.legend(loc=4)\n",
        "plt.xlabel('Date')\n",
        "plt.ylabel('Price')\n",
        "plt.show()"
      ],
      "execution_count": 9,
      "outputs": [
        {
          "output_type": "display_data",
          "data": {
            "image/png": "[encoded data removed]",
            "text/plain": [
              "<Figure size 576x504 with 1 Axes>"
            ]
          },
          "metadata": {
            "tags": []
          }
        }
      ]
    },
    {
      "cell_type": "code",
      "metadata": {
        "id": "afWG8M4onxqX",
        "colab_type": "code",
        "colab": {
          "base_uri": "https://localhost:8080/",
          "height": 51
        },
        "outputId": "d2eeeb42-6495-4d93-eee4-3ca6cdc9693b"
      },
      "source": [
        "isBuySignal = np.mean(forecast_set) > df.iloc[-forecast_set.size - 1]['Adj Close']\n",
        "\n",
        "print('I think you should...')\n",
        "print('BUY!' if isBuySignal else 'SELL!')"
      ],
      "execution_count": 10,
      "outputs": [
        {
          "output_type": "stream",
          "text": [
            "I think you should...\n",
            "BUY!\n"
          ],
          "name": "stdout"
        }
      ]
    },
    {
      "cell_type": "code",
      "metadata": {
        "id": "cxFbZzz1ocop",
        "colab_type": "code",
        "colab": {}
      },
      "source": [
        "from collections import deque\n",
        "import random\n",
        "\n",
        "name = 'Double Q-learning agent'\n",
        "\n",
        "class Model:\n",
        "    def __init__(self, input_size, output_size, layer_size, learning_rate):\n",
        "        self.X = tf.placeholder(tf.float32, (None, input_size))\n",
        "        self.Y = tf.placeholder(tf.float32, (None, output_size))\n",
        "        feed_forward = tf.layers.dense(self.X, layer_size, activation = tf.nn.relu)\n",
        "        self.logits = tf.layers.dense(feed_forward, output_size)\n",
        "        self.cost = tf.reduce_sum(tf.square(self.Y - self.logits))\n",
        "        self.optimizer = tf.train.AdamOptimizer(learning_rate = learning_rate).minimize(self.cost)\n",
        "        \n",
        "class Agent:\n",
        "\n",
        "    LEARNING_RATE = 0.003\n",
        "    BATCH_SIZE = 32\n",
        "    LAYER_SIZE = 500\n",
        "    OUTPUT_SIZE = 3\n",
        "    EPSILON = 0.5\n",
        "    DECAY_RATE = 0.005\n",
        "    MIN_EPSILON = 0.1\n",
        "    GAMMA = 0.99\n",
        "    MEMORIES = deque()\n",
        "    COPY = 1000\n",
        "    T_COPY = 0\n",
        "    MEMORY_SIZE = 300\n",
        "    \n",
        "    def __init__(self, state_size, window_size, trend, skip):\n",
        "        self.state_size = state_size\n",
        "        self.window_size = window_size\n",
        "        self.half_window = window_size // 2\n",
        "        self.trend = trend\n",
        "        self.skip = skip\n",
        "        tf.reset_default_graph()\n",
        "        self.model = Model(self.state_size, self.OUTPUT_SIZE, self.LAYER_SIZE, self.LEARNING_RATE)\n",
        "        self.model_negative = Model(self.state_size, self.OUTPUT_SIZE, self.LAYER_SIZE, self.LEARNING_RATE)\n",
        "        self.sess = tf.InteractiveSession()\n",
        "        self.sess.run(tf.global_variables_initializer())\n",
        "        self.trainable = tf.trainable_variables()\n",
        "    \n",
        "    def _assign(self):\n",
        "        for i in range(len(self.trainable)//2):\n",
        "            assign_op = self.trainable[i+len(self.trainable)//2].assign(self.trainable[i])\n",
        "            self.sess.run(assign_op)\n",
        "\n",
        "    def _memorize(self, state, action, reward, new_state, done):\n",
        "        self.MEMORIES.append((state, action, reward, new_state, done))\n",
        "        if len(self.MEMORIES) > self.MEMORY_SIZE:\n",
        "            self.MEMORIES.popleft()\n",
        "\n",
        "    def _select_action(self, state):\n",
        "        if np.random.rand() < self.EPSILON:\n",
        "            action = np.random.randint(self.OUTPUT_SIZE)\n",
        "        else:\n",
        "            action = self.get_predicted_action([state])\n",
        "        return action\n",
        "\n",
        "    def _construct_memories(self, replay):\n",
        "        states = np.array([a[0] for a in replay])\n",
        "        new_states = np.array([a[3] for a in replay])\n",
        "        Q = self.predict(states)\n",
        "        Q_new = self.predict(new_states)\n",
        "        Q_new_negative = self.sess.run(self.model_negative.logits, feed_dict={self.model_negative.X:new_states})\n",
        "        replay_size = len(replay)\n",
        "        X = np.empty((replay_size, self.state_size))\n",
        "        Y = np.empty((replay_size, self.OUTPUT_SIZE))\n",
        "        for i in range(replay_size):\n",
        "            state_r, action_r, reward_r, new_state_r, done_r = replay[i]\n",
        "            target = Q[i]\n",
        "            target[action_r] = reward_r\n",
        "            if not done_r:\n",
        "                target[action_r] += self.GAMMA * Q_new_negative[i, np.argmax(Q_new[i])]\n",
        "            X[i] = state_r\n",
        "            Y[i] = target\n",
        "        return X, Y\n",
        "\n",
        "    def predict(self, inputs):\n",
        "        return self.sess.run(self.model.logits, feed_dict={self.model.X:inputs})\n",
        "    \n",
        "    def get_predicted_action(self, sequence):\n",
        "        prediction = self.predict(np.array(sequence))[0]\n",
        "        return np.argmax(prediction)\n",
        "    \n",
        "    def get_state(self, t):\n",
        "        window_size = self.window_size + 1\n",
        "        d = t - window_size + 1\n",
        "        block = self.trend[d : t + 1] if d >= 0 else -d * [self.trend[0]] + self.trend[0 : t + 1]\n",
        "        res = []\n",
        "        for i in range(window_size - 1):\n",
        "            res.append(block[i + 1] - block[i])\n",
        "        return np.array(res)\n",
        "    \n",
        "    def buy(self, initial_money):\n",
        "        starting_money = initial_money\n",
        "        states_sell = []\n",
        "        states_buy = []\n",
        "        inventory = []\n",
        "        state = self.get_state(0)\n",
        "        for t in range(0, len(self.trend) - 1, self.skip):\n",
        "            action = self._select_action(state)\n",
        "            next_state = self.get_state(t + 1)\n",
        "            \n",
        "            if action == 1 and initial_money >= self.trend[t]:\n",
        "                inventory.append(self.trend[t])\n",
        "                initial_money -= self.trend[t]\n",
        "                states_buy.append(t)\n",
        "                print('day %d: buy 1 unit at price %f, total balance %f'% (t, self.trend[t], initial_money))\n",
        "            \n",
        "            elif action == 2 and len(inventory):\n",
        "                bought_price = inventory.pop(0)\n",
        "                initial_money += self.trend[t]\n",
        "                states_sell.append(t)\n",
        "                try:\n",
        "                    invest = ((close[t] - bought_price) / bought_price) * 100\n",
        "                except:\n",
        "                    invest = 0\n",
        "                print(\n",
        "                    'day %d, sell 1 unit at price %f, investment %f %%, total balance %f,'\n",
        "                    % (t, close[t], invest, initial_money)\n",
        "                )\n",
        "            \n",
        "            state = next_state\n",
        "        invest = ((initial_money - starting_money) / starting_money) * 100\n",
        "        total_gains = initial_money - starting_money\n",
        "        return states_buy, states_sell, total_gains, invest\n",
        "            \n",
        "    \n",
        "    def train(self, iterations, checkpoint, initial_money):\n",
        "        for i in range(iterations):\n",
        "            total_profit = 0\n",
        "            inventory = []\n",
        "            state = self.get_state(0)\n",
        "            starting_money = initial_money\n",
        "            for t in range(0, len(self.trend) - 1, self.skip):\n",
        "                if (self.T_COPY + 1) % self.COPY == 0:\n",
        "                    self._assign()\n",
        "                \n",
        "                action = self._select_action(state)\n",
        "                next_state = self.get_state(t + 1)\n",
        "                \n",
        "                if action == 1 and starting_money >= self.trend[t]:\n",
        "                    inventory.append(self.trend[t])\n",
        "                    starting_money -= self.trend[t]\n",
        "                \n",
        "                elif action == 2 and len(inventory) > 0:\n",
        "                    bought_price = inventory.pop(0)\n",
        "                    total_profit += self.trend[t] - bought_price\n",
        "                    starting_money += self.trend[t]\n",
        "                    \n",
        "                invest = ((starting_money - initial_money) / initial_money)\n",
        "                \n",
        "                self._memorize(state, action, invest, next_state, starting_money < initial_money)\n",
        "                batch_size = min(len(self.MEMORIES), self.BATCH_SIZE)\n",
        "                replay = random.sample(self.MEMORIES, batch_size)\n",
        "                state = next_state\n",
        "                X, Y = self._construct_memories(replay)\n",
        "                \n",
        "                cost, _ = self.sess.run([self.model.cost, self.model.optimizer], \n",
        "                                        feed_dict={self.model.X: X, self.model.Y:Y})\n",
        "                self.T_COPY += 1\n",
        "                self.EPSILON = self.MIN_EPSILON + (1.0 - self.MIN_EPSILON) * np.exp(-self.DECAY_RATE * i)\n",
        "            if (i+1) % checkpoint == 0:\n",
        "                print('epoch: %d, total rewards: %f.3, cost: %f, total money: %f'%(i + 1, total_profit, cost,\n",
        "                                                                                  starting_money))"
      ],
      "execution_count": 0,
      "outputs": []
    },
    {
      "cell_type": "code",
      "metadata": {
        "id": "EyrUL_KBp9GJ",
        "colab_type": "code",
        "outputId": "cf9bfeb7-7580-46aa-a480-5a2571bb689a",
        "colab": {
          "base_uri": "https://localhost:8080/",
          "height": 496
        }
      },
      "source": [
        "import tensorflow as tf\n",
        "\n",
        "df_full = pdr.get_data_yahoo(\"JPM\", start=\"2017-01-01\").reset_index()\n",
        "close = df_full['Close'].values.tolist()\n",
        "initial_money = 10000\n",
        "window_size = 30\n",
        "skip = 1\n",
        "batch_size = 32\n",
        "agent = Agent(state_size = window_size, \n",
        "              window_size = window_size, \n",
        "              trend = close, \n",
        "              skip = skip)\n",
        "agent.train(iterations = 200, checkpoint = 10, initial_money = initial_money)"
      ],
      "execution_count": 12,
      "outputs": [
        {
          "output_type": "stream",
          "text": [
            "[*********************100%***********************]  1 of 1 downloaded\n",
            "WARNING:tensorflow:From <ipython-input-11-373a1d3cd214>:10: dense (from tensorflow.python.layers.core) is deprecated and will be removed in a future version.\n",
            "Instructions for updating:\n",
            "Use keras.layers.Dense instead.\n",
            "WARNING:tensorflow:From /usr/local/lib/python3.6/dist-packages/tensorflow_core/python/layers/core.py:187: Layer.apply (from tensorflow.python.keras.engine.base_layer) is deprecated and will be removed in a future version.\n",
            "Instructions for updating:\n",
            "Please use `layer.__call__` method instead.\n",
            "epoch: 10, total rewards: 328.769969.3, cost: 0.071548, total money: 9987.559970\n",
            "epoch: 20, total rewards: 25.210047.3, cost: 0.111893, total money: 6985.050049\n",
            "epoch: 30, total rewards: -36.210029.3, cost: 0.027126, total money: 9025.199959\n",
            "epoch: 40, total rewards: 227.899947.3, cost: 0.031514, total money: 8957.739935\n",
            "epoch: 50, total rewards: 110.200029.3, cost: 0.001927, total money: 9883.360033\n",
            "epoch: 60, total rewards: -23.050000.3, cost: 0.017762, total money: 9976.950000\n",
            "epoch: 70, total rewards: 85.900001.3, cost: 0.011271, total money: 9746.870003\n",
            "epoch: 80, total rewards: 39.459954.3, cost: 0.008163, total money: 9812.619958\n",
            "epoch: 90, total rewards: -57.939995.3, cost: 0.003213, total money: 9942.060005\n",
            "epoch: 100, total rewards: -22.830008.3, cost: 0.009602, total money: 9977.169992\n",
            "epoch: 110, total rewards: 40.769999.3, cost: 0.003874, total money: 10040.769999\n",
            "epoch: 120, total rewards: 89.559970.3, cost: 0.001189, total money: 9975.349971\n",
            "epoch: 130, total rewards: 18.549987.3, cost: 0.000807, total money: 10018.549987\n",
            "epoch: 140, total rewards: 3.580014.3, cost: 0.000495, total money: 10003.580014\n",
            "epoch: 150, total rewards: 27.129972.3, cost: 0.005208, total money: 10027.129972\n",
            "epoch: 160, total rewards: 97.729913.3, cost: 0.003481, total money: 10097.729913\n",
            "epoch: 170, total rewards: -8.540027.3, cost: 0.000670, total money: 9991.459973\n",
            "epoch: 180, total rewards: 35.410059.3, cost: 0.002069, total money: 10035.410059\n",
            "epoch: 190, total rewards: -16.010030.3, cost: 0.001075, total money: 9983.989970\n",
            "epoch: 200, total rewards: 34.199992.3, cost: 0.000438, total money: 10034.199992\n"
          ],
          "name": "stdout"
        }
      ]
    },
    {
      "cell_type": "code",
      "metadata": {
        "id": "LyFdNimVqF6D",
        "colab_type": "code",
        "outputId": "a6875c22-1bed-4079-e125-1cb633fb1cf7",
        "colab": {
          "base_uri": "https://localhost:8080/",
          "height": 1000
        }
      },
      "source": [
        "states_buy, states_sell, total_gains, invest = agent.buy(initial_money = initial_money)"
      ],
      "execution_count": 13,
      "outputs": [
        {
          "output_type": "stream",
          "text": [
            "day 8: buy 1 unit at price 86.699997, total balance 9913.300003\n",
            "day 9: buy 1 unit at price 83.550003, total balance 9829.750000\n",
            "day 10: buy 1 unit at price 83.940002, total balance 9745.809998\n",
            "day 11: buy 1 unit at price 83.300003, total balance 9662.509995\n",
            "day 12, sell 1 unit at price 83.669998, investment -3.494809 %, total balance 9746.179993,\n",
            "day 13: buy 1 unit at price 83.709999, total balance 9662.469994\n",
            "day 14, sell 1 unit at price 84.720001, investment 1.400357 %, total balance 9747.189995,\n",
            "day 15, sell 1 unit at price 86.029999, investment 2.489870 %, total balance 9833.219994,\n",
            "day 16, sell 1 unit at price 86.750000, investment 4.141653 %, total balance 9919.969994,\n",
            "day 17: buy 1 unit at price 86.930000, total balance 9833.039994\n",
            "day 18, sell 1 unit at price 86.029999, investment 2.771473 %, total balance 9919.069993,\n",
            "day 19, sell 1 unit at price 84.629997, investment -2.645810 %, total balance 10003.699990,\n",
            "day 24: buy 1 unit at price 86.720001, total balance 9916.979989\n",
            "day 25, sell 1 unit at price 85.959999, investment -0.876386 %, total balance 10002.939988,\n",
            "day 31: buy 1 unit at price 90.529999, total balance 9912.409989\n",
            "day 32, sell 1 unit at price 90.230003, investment -0.331377 %, total balance 10002.639992,\n",
            "day 43: buy 1 unit at price 91.410004, total balance 9911.229988\n",
            "day 44, sell 1 unit at price 91.209999, investment -0.218800 %, total balance 10002.439987,\n",
            "day 45: buy 1 unit at price 91.570000, total balance 9910.869987\n",
            "day 46: buy 1 unit at price 91.279999, total balance 9819.589988\n",
            "day 47, sell 1 unit at price 91.360001, investment -0.229332 %, total balance 9910.949989,\n",
            "day 48, sell 1 unit at price 91.510002, investment 0.251975 %, total balance 10002.459991,\n",
            "day 58: buy 1 unit at price 88.599998, total balance 9913.859993\n",
            "day 61: buy 1 unit at price 87.839996, total balance 9826.019997\n",
            "day 62, sell 1 unit at price 87.519997, investment -1.218963 %, total balance 9913.539994,\n",
            "day 63, sell 1 unit at price 87.309998, investment -0.603368 %, total balance 10000.849992,\n",
            "day 77: buy 1 unit at price 88.260002, total balance 9912.589990\n",
            "day 78, sell 1 unit at price 88.430000, investment 0.192610 %, total balance 10001.019990,\n",
            "day 89: buy 1 unit at price 87.160004, total balance 9913.859986\n",
            "day 90, sell 1 unit at price 86.919998, investment -0.275363 %, total balance 10000.779984,\n",
            "day 98: buy 1 unit at price 85.709999, total balance 9915.069985\n",
            "day 99, sell 1 unit at price 85.349998, investment -0.420022 %, total balance 10000.419983,\n",
            "day 113: buy 1 unit at price 86.570000, total balance 9913.849983\n",
            "day 114, sell 1 unit at price 86.180000, investment -0.450502 %, total balance 10000.029983,\n",
            "day 116: buy 1 unit at price 87.519997, total balance 9912.509986\n",
            "day 117, sell 1 unit at price 87.120003, investment -0.457032 %, total balance 9999.629989,\n",
            "day 127: buy 1 unit at price 93.379997, total balance 9906.249992\n",
            "day 129, sell 1 unit at price 93.190002, investment -0.203464 %, total balance 9999.439994,\n",
            "day 134: buy 1 unit at price 91.389999, total balance 9908.049995\n",
            "day 135, sell 1 unit at price 91.070000, investment -0.350147 %, total balance 9999.119995,\n",
            "day 156: buy 1 unit at price 92.089996, total balance 9907.029999\n",
            "day 157, sell 1 unit at price 90.650002, investment -1.563681 %, total balance 9997.680001,\n",
            "day 161: buy 1 unit at price 91.669998, total balance 9906.010003\n",
            "day 162, sell 1 unit at price 91.519997, investment -0.163632 %, total balance 9997.530000,\n",
            "day 166: buy 1 unit at price 91.309998, total balance 9906.220002\n",
            "day 167, sell 1 unit at price 90.889999, investment -0.459970 %, total balance 9997.110001,\n",
            "day 170: buy 1 unit at price 90.110001, total balance 9907.000000\n",
            "day 171, sell 1 unit at price 88.529999, investment -1.753415 %, total balance 9995.529999,\n",
            "day 175: buy 1 unit at price 91.150002, total balance 9904.379997\n",
            "day 176, sell 1 unit at price 90.970001, investment -0.197478 %, total balance 9995.349998,\n",
            "day 181: buy 1 unit at price 95.029999, total balance 9900.319999\n",
            "day 182, sell 1 unit at price 94.830002, investment -0.210457 %, total balance 9995.150001,\n",
            "day 189: buy 1 unit at price 97.349998, total balance 9897.800003\n",
            "day 191, sell 1 unit at price 97.089996, investment -0.267080 %, total balance 9994.889999,\n",
            "day 206: buy 1 unit at price 101.739998, total balance 9893.150001\n",
            "day 207: buy 1 unit at price 101.769997, total balance 9791.380004\n",
            "day 208, sell 1 unit at price 101.410004, investment -0.324350 %, total balance 9892.790008,\n",
            "day 209, sell 1 unit at price 100.610001, investment -1.139821 %, total balance 9993.400009,\n",
            "day 220: buy 1 unit at price 98.190002, total balance 9895.210007\n",
            "day 221, sell 1 unit at price 98.470001, investment 0.285160 %, total balance 9993.680008,\n",
            "day 231: buy 1 unit at price 104.790001, total balance 9888.890007\n",
            "day 233, sell 1 unit at price 105.720001, investment 0.887489 %, total balance 9994.610008,\n",
            "day 235: buy 1 unit at price 104.620003, total balance 9889.990005\n",
            "day 236, sell 1 unit at price 105.930000, investment 1.252148 %, total balance 9995.920005,\n",
            "day 259: buy 1 unit at price 112.669998, total balance 9883.250007\n",
            "day 260, sell 1 unit at price 112.269997, investment -0.355020 %, total balance 9995.520004,\n",
            "day 261: buy 1 unit at price 112.989998, total balance 9882.530006\n",
            "day 262, sell 1 unit at price 113.260002, investment 0.238963 %, total balance 9995.790008,\n",
            "day 264: buy 1 unit at price 114.330002, total balance 9881.460006\n",
            "day 265: buy 1 unit at price 114.209999, total balance 9767.250007\n",
            "day 266, sell 1 unit at price 115.669998, investment 1.172042 %, total balance 9882.920005,\n",
            "day 267, sell 1 unit at price 115.699997, investment 1.304613 %, total balance 9998.620002,\n",
            "day 275: buy 1 unit at price 112.110001, total balance 9886.510001\n",
            "day 276, sell 1 unit at price 112.870003, investment 0.677907 %, total balance 9999.380004,\n",
            "day 285: buy 1 unit at price 115.190002, total balance 9884.190002\n",
            "day 286, sell 1 unit at price 114.980003, investment -0.182307 %, total balance 9999.170005,\n",
            "day 288: buy 1 unit at price 118.769997, total balance 9880.400008\n",
            "day 289, sell 1 unit at price 117.360001, investment -1.187165 %, total balance 9997.760009,\n",
            "day 292: buy 1 unit at price 113.320000, total balance 9884.440009\n",
            "day 293, sell 1 unit at price 115.059998, investment 1.535473 %, total balance 9999.500007,\n",
            "day 294: buy 1 unit at price 115.160004, total balance 9884.340003\n",
            "day 296, sell 1 unit at price 114.739998, investment -0.364715 %, total balance 9999.080001,\n",
            "day 300: buy 1 unit at price 114.949997, total balance 9884.130004\n",
            "day 301, sell 1 unit at price 115.239998, investment 0.252284 %, total balance 9999.370002,\n",
            "day 310: buy 1 unit at price 108.000000, total balance 9891.370002\n",
            "day 312: buy 1 unit at price 107.849998, total balance 9783.520004\n",
            "day 314, sell 1 unit at price 110.989998, investment 2.768517 %, total balance 9894.510002,\n",
            "day 318, sell 1 unit at price 112.510002, investment 4.320820 %, total balance 10007.020004,\n",
            "day 325: buy 1 unit at price 111.720001, total balance 9895.300003\n",
            "day 326, sell 1 unit at price 111.470001, investment -0.223774 %, total balance 10006.770004,\n",
            "day 327: buy 1 unit at price 110.930000, total balance 9895.840004\n",
            "day 328, sell 1 unit at price 110.410004, investment -0.468760 %, total balance 10006.250008,\n",
            "day 330: buy 1 unit at price 110.099998, total balance 9896.150010\n",
            "day 331, sell 1 unit at price 109.400002, investment -0.635782 %, total balance 10005.550012,\n",
            "day 332: buy 1 unit at price 108.779999, total balance 9896.770013\n",
            "day 333, sell 1 unit at price 108.779999, investment 0.000000 %, total balance 10005.550012,\n",
            "day 344: buy 1 unit at price 113.339996, total balance 9892.210016\n",
            "day 345, sell 1 unit at price 112.959999, investment -0.335272 %, total balance 10005.170015,\n",
            "day 353: buy 1 unit at price 108.349998, total balance 9896.820017\n",
            "day 354, sell 1 unit at price 107.010002, investment -1.236729 %, total balance 10003.830019,\n",
            "day 362: buy 1 unit at price 110.190002, total balance 9893.640017\n",
            "day 364, sell 1 unit at price 108.029999, investment -1.960253 %, total balance 10001.670016,\n",
            "day 365: buy 1 unit at price 107.900002, total balance 9893.770014\n",
            "day 366, sell 1 unit at price 108.180000, investment 0.259498 %, total balance 10001.950014,\n",
            "day 370: buy 1 unit at price 105.750000, total balance 9896.200014\n",
            "day 371, sell 1 unit at price 104.790001, investment -0.907800 %, total balance 10000.990015,\n",
            "day 374: buy 1 unit at price 104.930000, total balance 9896.060015\n",
            "day 377, sell 1 unit at price 103.610001, investment -1.257981 %, total balance 9999.670016,\n",
            "day 382: buy 1 unit at price 106.389999, total balance 9893.280017\n",
            "day 383, sell 1 unit at price 106.849998, investment 0.432371 %, total balance 10000.130015,\n",
            "day 400: buy 1 unit at price 117.120003, total balance 9883.010012\n",
            "day 401, sell 1 unit at price 117.550003, investment 0.367145 %, total balance 10000.560015,\n",
            "day 423: buy 1 unit at price 114.320000, total balance 9886.240015\n",
            "day 424, sell 1 unit at price 113.709999, investment -0.533591 %, total balance 9999.950014,\n",
            "day 425: buy 1 unit at price 114.430000, total balance 9885.520014\n",
            "day 426: buy 1 unit at price 113.080002, total balance 9772.440012\n",
            "day 427, sell 1 unit at price 113.519997, investment -0.795249 %, total balance 9885.960009,\n",
            "day 428, sell 1 unit at price 113.500000, investment 0.371417 %, total balance 9999.460009,\n",
            "day 443: buy 1 unit at price 114.620003, total balance 9884.840006\n",
            "day 445: buy 1 unit at price 114.519997, total balance 9770.320009\n",
            "day 446, sell 1 unit at price 111.470001, investment -2.748213 %, total balance 9881.790010,\n",
            "day 447, sell 1 unit at price 108.129997, investment -5.579812 %, total balance 9989.920007,\n",
            "day 457: buy 1 unit at price 104.860001, total balance 9885.060006\n",
            "day 458, sell 1 unit at price 103.419998, investment -1.373262 %, total balance 9988.480004,\n",
            "day 467: buy 1 unit at price 112.379997, total balance 9876.100007\n",
            "day 468, sell 1 unit at price 111.290001, investment -0.969920 %, total balance 9987.390008,\n",
            "day 478: buy 1 unit at price 109.260002, total balance 9878.130006\n",
            "day 479, sell 1 unit at price 109.720001, investment 0.421013 %, total balance 9987.850007,\n",
            "day 482: buy 1 unit at price 111.190002, total balance 9876.660005\n",
            "day 483, sell 1 unit at price 112.239998, investment 0.944326 %, total balance 9988.900003,\n",
            "day 485: buy 1 unit at price 105.190002, total balance 9883.710001\n",
            "day 486, sell 1 unit at price 103.290001, investment -1.806256 %, total balance 9987.000002,\n",
            "day 487: buy 1 unit at price 101.360001, total balance 9885.640001\n",
            "day 488, sell 1 unit at price 100.370003, investment -0.976715 %, total balance 9986.010004,\n",
            "day 494: buy 1 unit at price 97.290001, total balance 9888.720003\n",
            "day 495, sell 1 unit at price 96.449997, investment -0.863402 %, total balance 9985.170000,\n",
            "day 500: buy 1 unit at price 96.830002, total balance 9888.339998\n",
            "day 501, sell 1 unit at price 97.620003, investment 0.815864 %, total balance 9985.960001,\n",
            "day 503: buy 1 unit at price 97.110001, total balance 9888.850000\n",
            "day 504, sell 1 unit at price 100.690002, investment 3.686542 %, total balance 9989.540002,\n",
            "day 510: buy 1 unit at price 100.940002, total balance 9888.600000\n",
            "day 511, sell 1 unit at price 101.680000, investment 0.733107 %, total balance 9990.280000,\n",
            "day 515: buy 1 unit at price 102.940002, total balance 9887.339998\n",
            "day 516: buy 1 unit at price 102.680000, total balance 9784.659998\n",
            "day 517, sell 1 unit at price 102.739998, investment -0.194292 %, total balance 9887.399996,\n",
            "day 518: buy 1 unit at price 103.389999, total balance 9784.009997\n",
            "day 520, sell 1 unit at price 104.169998, investment 1.451108 %, total balance 9888.179995,\n",
            "day 521, sell 1 unit at price 104.410004, investment 0.986561 %, total balance 9992.589999,\n",
            "day 530: buy 1 unit at price 102.599998, total balance 9889.990001\n",
            "day 531: buy 1 unit at price 103.089996, total balance 9786.900005\n",
            "day 532, sell 1 unit at price 102.419998, investment -0.175439 %, total balance 9889.320003,\n",
            "day 533, sell 1 unit at price 105.550003, investment 2.386271 %, total balance 9994.870006,\n",
            "day 552: buy 1 unit at price 106.550003, total balance 9888.320003\n",
            "day 553: buy 1 unit at price 107.190002, total balance 9781.130001\n",
            "day 554, sell 1 unit at price 106.800003, investment 0.234632 %, total balance 9887.930004,\n",
            "day 555, sell 1 unit at price 104.519997, investment -2.490909 %, total balance 9992.450001,\n",
            "day 558: buy 1 unit at price 98.930000, total balance 9893.520001\n",
            "day 559, sell 1 unit at price 99.919998, investment 1.000706 %, total balance 9993.439999,\n",
            "day 567: buy 1 unit at price 105.309998, total balance 9888.130001\n",
            "day 568, sell 1 unit at price 105.650002, investment 0.322860 %, total balance 9993.780003,\n",
            "day 580: buy 1 unit at price 113.610001, total balance 9880.170002\n",
            "day 581, sell 1 unit at price 114.470001, investment 0.756976 %, total balance 9994.640003,\n",
            "day 584: buy 1 unit at price 115.160004, total balance 9879.479999\n",
            "day 585, sell 1 unit at price 115.410004, investment 0.217089 %, total balance 9994.890003,\n",
            "day 604: buy 1 unit at price 107.059998, total balance 9887.830005\n",
            "day 605, sell 1 unit at price 105.959999, investment -1.027460 %, total balance 9993.790004,\n",
            "day 611: buy 1 unit at price 110.339996, total balance 9883.450008\n",
            "day 612, sell 1 unit at price 110.680000, investment 0.308142 %, total balance 9994.130008,\n",
            "day 614: buy 1 unit at price 109.540001, total balance 9884.590007\n",
            "day 616, sell 1 unit at price 109.220001, investment -0.292131 %, total balance 9993.810008,\n",
            "day 617: buy 1 unit at price 110.709999, total balance 9883.100009\n",
            "day 618, sell 1 unit at price 109.910004, investment -0.722604 %, total balance 9993.010013,\n",
            "day 620: buy 1 unit at price 109.440002, total balance 9883.570011\n",
            "day 621, sell 1 unit at price 108.660004, investment -0.712717 %, total balance 9992.230015,\n",
            "day 622: buy 1 unit at price 107.760002, total balance 9884.470013\n",
            "day 623, sell 1 unit at price 108.480003, investment 0.668152 %, total balance 9992.950016,\n",
            "day 632: buy 1 unit at price 113.019997, total balance 9879.930019\n",
            "day 633, sell 1 unit at price 114.099998, investment 0.955584 %, total balance 9994.030017,\n",
            "day 636: buy 1 unit at price 115.120003, total balance 9878.910014\n",
            "day 637, sell 1 unit at price 113.989998, investment -0.981589 %, total balance 9992.900012,\n",
            "day 641: buy 1 unit at price 116.360001, total balance 9876.540011\n",
            "day 642, sell 1 unit at price 116.830002, investment 0.403920 %, total balance 9993.370013,\n",
            "day 643: buy 1 unit at price 115.709999, total balance 9877.660014\n",
            "day 644: buy 1 unit at price 116.220001, total balance 9761.440013\n",
            "day 645, sell 1 unit at price 115.849998, investment 0.120991 %, total balance 9877.290011,\n",
            "day 647, sell 1 unit at price 116.000000, investment -0.189297 %, total balance 9993.290011,\n",
            "day 656: buy 1 unit at price 109.339996, total balance 9883.950015\n",
            "day 658, sell 1 unit at price 105.199997, investment -3.786354 %, total balance 9989.150012,\n",
            "day 664: buy 1 unit at price 106.019997, total balance 9883.130015\n",
            "day 665, sell 1 unit at price 106.870003, investment 0.801741 %, total balance 9990.000018,\n",
            "day 683: buy 1 unit at price 118.900002, total balance 9871.100016\n",
            "day 684, sell 1 unit at price 118.879997, investment -0.016825 %, total balance 9989.980013,\n",
            "day 691: buy 1 unit at price 113.250000, total balance 9876.730013\n",
            "day 692, sell 1 unit at price 112.190002, investment -0.935981 %, total balance 9988.920015,\n",
            "day 697: buy 1 unit at price 114.209999, total balance 9874.710016\n"
          ],
          "name": "stdout"
        }
      ]
    },
    {
      "cell_type": "code",
      "metadata": {
        "id": "WiEGg1hPqiNV",
        "colab_type": "code",
        "outputId": "fba1b2e4-71d9-484c-b94c-bc0a8319b74b",
        "colab": {
          "base_uri": "https://localhost:8080/",
          "height": 337
        }
      },
      "source": [
        "\n",
        "fig = plt.figure(figsize = (15,5))\n",
        "plt.plot(close, color='r', lw=2.)\n",
        "plt.plot(close, '^', markersize=10, color='m', label = 'buying signal', markevery = states_buy)\n",
        "plt.plot(close, 'v', markersize=10, color='k', label = 'selling signal', markevery = states_sell)\n",
        "plt.title('total gains %f, total investment %f%%'%(total_gains, invest))\n",
        "plt.legend()\n",
        "plt.show()"
      ],
      "execution_count": 14,
      "outputs": [
        {
          "output_type": "display_data",
          "data": {
            "image/png": "[encoded data removed]",
            "text/plain": [
              "<Figure size 1080x360 with 1 Axes>"
            ]
          },
          "metadata": {
            "tags": []
          }
        }
      ]
    },
    {
      "cell_type": "code",
      "metadata": {
        "id": "tJA9WRoNrG-T",
        "colab_type": "code",
        "colab": {}
      },
      "source": [
        ""
      ],
      "execution_count": 0,
      "outputs": []
    },
    {
      "cell_type": "code",
      "metadata": {
        "id": "PfE9EPzHrqvq",
        "colab_type": "code",
        "colab": {}
      },
      "source": [
        ""
      ],
      "execution_count": 0,
      "outputs": []
    },
    {
      "cell_type": "code",
      "metadata": {
        "id": "O_EGAgEcsfo1",
        "colab_type": "code",
        "colab": {}
      },
      "source": [
        "\n"
      ],
      "execution_count": 0,
      "outputs": []
    },
    {
      "cell_type": "code",
      "metadata": {
        "id": "qdoFcP3Pt2eD",
        "colab_type": "code",
        "colab": {}
      },
      "source": [
        ""
      ],
      "execution_count": 0,
      "outputs": []
    },
    {
      "cell_type": "code",
      "metadata": {
        "id": "nlRNvZWSu1Y5",
        "colab_type": "code",
        "colab": {}
      },
      "source": [
        ""
      ],
      "execution_count": 0,
      "outputs": []
    },
    {
      "cell_type": "code",
      "metadata": {
        "id": "zPiE_MPlu9Bj",
        "colab_type": "code",
        "colab": {}
      },
      "source": [
        ""
      ],
      "execution_count": 0,
      "outputs": []
    }
  ]
}